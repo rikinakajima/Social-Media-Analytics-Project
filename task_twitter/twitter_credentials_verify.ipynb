{
 "cells": [
  {
   "cell_type": "code",
   "execution_count": 1,
   "id": "7d1d985c",
   "metadata": {},
   "outputs": [],
   "source": [
    "# For Twitter API interactions:\n",
    "#  install tweepy package; along the way, install wordcloud (will be used in this task)\n",
    "# In terminal:\n",
    "#  conda install -c conda-forge tweepy wordcloud\n",
    "#\n",
    "# Alternatively, right here in the notebook (uncomment the next two lines and run):\n",
    "#import sys\n",
    "#!conda install -c conda-forge --yes --prefix {sys.prefix} tweepy wordcloud"
   ]
  },
  {
   "cell_type": "code",
   "execution_count": 2,
   "id": "ebebde48",
   "metadata": {},
   "outputs": [],
   "source": [
    "# Save \"config_twitter.py\" file in your working folder:\n",
    "#  https://raw.githubusercontent.com/multidis/hult-social-media-analytics/main/task_twitter/config_twitter.py\n",
    "#\n",
    "# Collect your Twitter developer access tokens as described in the course module,\n",
    "#  \"Generating Twitter developer access tokens\" page\n",
    "#\n",
    "# Edit \"config_twitter.py\" entering your keys/tokens in the respective assignment statements (instead of \"todo\").\n",
    "# Then proceed with the cells below."
   ]
  },
  {
   "cell_type": "code",
   "execution_count": 3,
   "id": "6d9f4bb9",
   "metadata": {},
   "outputs": [],
   "source": [
    "import tweepy as tw\n",
    "import config_twitter"
   ]
  },
  {
   "cell_type": "code",
   "execution_count": 4,
   "id": "80a2a0de",
   "metadata": {},
   "outputs": [],
   "source": [
    "# establish Twitter API connection\n",
    "auth = tw.OAuthHandler(config_twitter.consumer_key, config_twitter.consumer_secret)\n",
    "auth.set_access_token(config_twitter.access_token, config_twitter.access_token_secret)\n",
    "api = tw.API(auth, wait_on_rate_limit=True)"
   ]
  },
  {
   "cell_type": "code",
   "execution_count": 5,
   "id": "cc1c05e2",
   "metadata": {},
   "outputs": [
    {
     "data": {
      "text/plain": [
       "User(_api=<tweepy.api.API object at 0x000001E26DBABD60>, _json={'id': 1551675144241807360, 'id_str': '1551675144241807360', 'name': 'test_taro', 'screen_name': 'testtar38598590', 'location': '', 'description': '', 'url': None, 'entities': {'description': {'urls': []}}, 'protected': False, 'followers_count': 0, 'friends_count': 0, 'listed_count': 0, 'created_at': 'Mon Jul 25 21:06:40 +0000 2022', 'favourites_count': 0, 'utc_offset': None, 'time_zone': None, 'geo_enabled': False, 'verified': False, 'statuses_count': 0, 'lang': None, 'contributors_enabled': False, 'is_translator': False, 'is_translation_enabled': False, 'profile_background_color': 'F5F8FA', 'profile_background_image_url': None, 'profile_background_image_url_https': None, 'profile_background_tile': False, 'profile_image_url': 'http://abs.twimg.com/sticky/default_profile_images/default_profile_normal.png', 'profile_image_url_https': 'https://abs.twimg.com/sticky/default_profile_images/default_profile_normal.png', 'profile_link_color': '1DA1F2', 'profile_sidebar_border_color': 'C0DEED', 'profile_sidebar_fill_color': 'DDEEF6', 'profile_text_color': '333333', 'profile_use_background_image': True, 'has_extended_profile': True, 'default_profile': True, 'default_profile_image': True, 'following': False, 'follow_request_sent': False, 'notifications': False, 'translator_type': 'none', 'withheld_in_countries': [], 'suspended': False, 'needs_phone_verification': False}, id=1551675144241807360, id_str='1551675144241807360', name='test_taro', screen_name='testtar38598590', location='', description='', url=None, entities={'description': {'urls': []}}, protected=False, followers_count=0, friends_count=0, listed_count=0, created_at=datetime.datetime(2022, 7, 25, 21, 6, 40, tzinfo=datetime.timezone.utc), favourites_count=0, utc_offset=None, time_zone=None, geo_enabled=False, verified=False, statuses_count=0, lang=None, contributors_enabled=False, is_translator=False, is_translation_enabled=False, profile_background_color='F5F8FA', profile_background_image_url=None, profile_background_image_url_https=None, profile_background_tile=False, profile_image_url='http://abs.twimg.com/sticky/default_profile_images/default_profile_normal.png', profile_image_url_https='https://abs.twimg.com/sticky/default_profile_images/default_profile_normal.png', profile_link_color='1DA1F2', profile_sidebar_border_color='C0DEED', profile_sidebar_fill_color='DDEEF6', profile_text_color='333333', profile_use_background_image=True, has_extended_profile=True, default_profile=True, default_profile_image=True, following=False, follow_request_sent=False, notifications=False, translator_type='none', withheld_in_countries=[], suspended=False, needs_phone_verification=False)"
      ]
     },
     "execution_count": 5,
     "metadata": {},
     "output_type": "execute_result"
    }
   ],
   "source": [
    "# returns False if credentials could not be verified, otherwise a user-object\n",
    "# https://docs.tweepy.org/en/stable/api.html#API.verify_credentials\n",
    "user = api.verify_credentials()\n",
    "user"
   ]
  }
 ],
 "metadata": {
  "kernelspec": {
   "display_name": "Python 3 (ipykernel)",
   "language": "python",
   "name": "python3"
  },
  "language_info": {
   "codemirror_mode": {
    "name": "ipython",
    "version": 3
   },
   "file_extension": ".py",
   "mimetype": "text/x-python",
   "name": "python",
   "nbconvert_exporter": "python",
   "pygments_lexer": "ipython3",
   "version": "3.9.12"
  }
 },
 "nbformat": 4,
 "nbformat_minor": 5
}
